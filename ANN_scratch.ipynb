{
  "nbformat": 4,
  "nbformat_minor": 0,
  "metadata": {
    "colab": {
      "provenance": [],
      "include_colab_link": true
    },
    "kernelspec": {
      "name": "python3",
      "display_name": "Python 3"
    },
    "language_info": {
      "name": "python"
    }
  },
  "cells": [
    {
      "cell_type": "markdown",
      "metadata": {
        "id": "view-in-github",
        "colab_type": "text"
      },
      "source": [
        "<a href=\"https://colab.research.google.com/github/aipalak/CV-DL/blob/main/ANN_scratch.ipynb\" target=\"_parent\"><img src=\"https://colab.research.google.com/assets/colab-badge.svg\" alt=\"Open In Colab\"/></a>"
      ]
    },
    {
      "cell_type": "code",
      "source": [
        "import numpy as np"
      ],
      "metadata": {
        "id": "ifdaaY9QTYTB"
      },
      "execution_count": 30,
      "outputs": []
    },
    {
      "cell_type": "code",
      "source": [
        "X=np.array([\n",
        "    [1,0,1,1],\n",
        "    [1,0,1,0],\n",
        "    [0,0,1,1]\n",
        "])\n",
        "Y=np.array([[1],[0],[1]])\n",
        "X.shape\n",
        "alpha=0.1"
      ],
      "metadata": {
        "id": "iWyDFgaWT5x7"
      },
      "execution_count": 37,
      "outputs": []
    },
    {
      "cell_type": "code",
      "source": [
        "inputneurons=X.shape[1]\n",
        "hiddenneurons=4\n",
        "outputneurons=1"
      ],
      "metadata": {
        "id": "eWVlk2UoUGJn"
      },
      "execution_count": 32,
      "outputs": []
    },
    {
      "cell_type": "code",
      "source": [
        "weightshidden=np.random.uniform(size=(inputneurons,hiddenneurons))\n",
        "biashidden=np.random.uniform(size=(1,hiddenneurons))\n",
        "weightsoutput=np.random.uniform(size=(hiddenneurons,outputneurons))\n",
        "biasoutput=np.random.uniform(1,outputneurons)\n",
        "weightshidden.shape"
      ],
      "metadata": {
        "colab": {
          "base_uri": "https://localhost:8080/"
        },
        "id": "15TcxeIRUXlT",
        "outputId": "e1a45425-3a75-4a0c-e016-ebd9af91a54e"
      },
      "execution_count": 35,
      "outputs": [
        {
          "output_type": "execute_result",
          "data": {
            "text/plain": [
              "(4, 4)"
            ]
          },
          "metadata": {},
          "execution_count": 35
        }
      ]
    },
    {
      "cell_type": "code",
      "source": [
        "def sigmoid(x):\n",
        "  return x/(1+np.exp(-x))\n",
        "def deriv_sigmoid(x):\n",
        "  return x*(1-x)"
      ],
      "metadata": {
        "id": "pNsY1xX1U6F6"
      },
      "execution_count": 36,
      "outputs": []
    },
    {
      "cell_type": "code",
      "source": [
        "epochs=100\n",
        "weightshidden=np.random.uniform(size=(inputneurons,hiddenneurons))\n",
        "biashidden=np.random.uniform(size=(1,hiddenneurons))\n",
        "weightsoutput=np.random.uniform(size=(hiddenneurons,outputneurons))\n",
        "biasoutput=np.random.uniform(1,outputneurons)\n",
        "weightshidden.shape\n",
        "\n",
        "for i in range(epochs):\n",
        "  fx1=np.dot(X,weightshidden)+biashidden\n",
        "  fx2=sigmoid(fx1)\n",
        "  fx3=np.dot(fx2,weightsoutput)+biasoutput\n",
        "  fx4=sigmoid(fx3)\n",
        "\n",
        "  outputloss=fx4-Y\n",
        "  outputslope=deriv_sigmoid(fx4)\n",
        "  deltaoutput=outputslope*outputloss\n",
        "\n",
        "  hiddenslope=deriv_sigmoid(fx2)\n",
        "  hiddenloss=np.dot(deltaoutput,weightsoutput.T)\n",
        "  hiddendelta=hiddenloss*hiddenslope\n",
        "\n",
        "  weightsoutput=weightsoutput-fx2.T.dot(deltaoutput)*alpha\n",
        "  biasoutput=biasoutput-np.sum(deltaoutput)*alpha\n",
        "  weightshidden=weightshidden-X.T.dot(hiddendelta)*alpha\n",
        "  biashidden=biashidden-np.sum(hiddendelta)*alpha\n",
        "\n"
      ],
      "metadata": {
        "colab": {
          "base_uri": "https://localhost:8080/"
        },
        "id": "w6vmDpzgVNWE",
        "outputId": "db8cca74-f8ee-408b-ec46-02529bf964a7"
      },
      "execution_count": 39,
      "outputs": [
        {
          "output_type": "stream",
          "name": "stderr",
          "text": [
            "<ipython-input-36-90f28b6fd462>:2: RuntimeWarning: overflow encountered in exp\n",
            "  return x/(1+np.exp(-x))\n",
            "<ipython-input-39-713a358110b4>:16: RuntimeWarning: overflow encountered in multiply\n",
            "  deltaoutput=outputslope*outputloss\n",
            "<ipython-input-39-713a358110b4>:20: RuntimeWarning: invalid value encountered in multiply\n",
            "  hiddendelta=hiddenloss*hiddenslope\n"
          ]
        }
      ]
    },
    {
      "cell_type": "code",
      "source": [
        "fx4"
      ],
      "metadata": {
        "colab": {
          "base_uri": "https://localhost:8080/"
        },
        "id": "1eMm0ktqYoBW",
        "outputId": "4c48d0fd-b6da-48d3-fe26-9f8d6a007773"
      },
      "execution_count": 40,
      "outputs": [
        {
          "output_type": "execute_result",
          "data": {
            "text/plain": [
              "array([[nan],\n",
              "       [nan],\n",
              "       [nan]])"
            ]
          },
          "metadata": {},
          "execution_count": 40
        }
      ]
    }
  ]
}